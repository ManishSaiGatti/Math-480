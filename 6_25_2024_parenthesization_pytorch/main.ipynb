{
 "cells": [
  {
   "cell_type": "markdown",
   "metadata": {},
   "source": [
    "# Imports"
   ]
  },
  {
   "cell_type": "code",
   "execution_count": 9,
   "metadata": {},
   "outputs": [],
   "source": [
    "from torch.utils.data import DataLoader, random_split\n",
    "import torch\n",
    "import numpy as np\n",
    "from data import ParenthesizationDataset, ParenthesizationModel\n",
    "from train import train_one_epoch, evaluate_model\n",
    "import matplotlib.pyplot as plt"
   ]
  },
  {
   "cell_type": "markdown",
   "metadata": {},
   "source": [
    "# Initialization\n",
    "Set the parameters here for training and initialize the train/test datasets, data loaders, model, loss function and optimizer."
   ]
  },
  {
   "cell_type": "code",
   "execution_count": 2,
   "metadata": {},
   "outputs": [],
   "source": [
    "n = 7\n",
    "epochs = 50\n",
    "train_split, test_split = 0.8, 0.2\n",
    "learning_rate = 0.001\n",
    "momentum = 0.9\n",
    "batch_size = 32\n",
    "\n",
    "# TODO: Create the datasets, model, loss function, optimizer, and data loader.\n",
    "dataset = ParenthesizationDataset(n)\n",
    "train_size = int(train_split * len(dataset))\n",
    "test_size = len(dataset) - train_size\n",
    "train_dataset, test_dataset = random_split(dataset, [train_size, test_size])\n",
    "train_loader = DataLoader(train_dataset, batch_size=batch_size, shuffle=True)\n",
    "test_loader = DataLoader(test_dataset, batch_size=batch_size, shuffle=False)\n",
    "model = ParenthesizationModel(n)\n",
    "loss_fn = torch.nn.CrossEntropyLoss()\n",
    "optimizer = torch.optim.SGD(model.parameters(), lr=learning_rate, momentum=momentum)"
   ]
  },
  {
   "cell_type": "markdown",
   "metadata": {},
   "source": [
    "# Training the model\n",
    "* Call `train_one_epoch` repeatedly to train the model once over the entire training dataset.\n",
    "* Print out the epoch number and loss after each training call to verify that the loss is going down.\n",
    "* Record the loss values in a list so that it can be plotted in the cell below.\n",
    "* After training, call `evaluate_model` to get the confusion matrix.\n",
    "* Save the model as `models/linear_model_{n}.pt`."
   ]
  },
  {
   "cell_type": "code",
   "execution_count": 3,
   "metadata": {},
   "outputs": [
    {
     "name": "stdout",
     "output_type": "stream",
     "text": [
      "Epoch 0: 0.8862006528811022\n",
      "Epoch 1: 0.7810656916011464\n",
      "Epoch 2: 0.7250453694300218\n",
      "Epoch 3: 0.6842946491458199\n",
      "Epoch 4: 0.6522424600341103\n",
      "Epoch 5: 0.621266944841905\n",
      "Epoch 6: 0.5910024399107153\n",
      "Epoch 7: 0.5654625526883386\n",
      "Epoch 8: 0.5455670018087734\n",
      "Epoch 9: 0.5270347906784578\n",
      "Epoch 10: 0.5095624463124708\n",
      "Epoch 11: 0.490579064596783\n",
      "Epoch 12: 0.4780134138735858\n",
      "Epoch 13: 0.46087025512348523\n",
      "Epoch 14: 0.4539929655465213\n",
      "Epoch 15: 0.44410732117566193\n",
      "Epoch 16: 0.4362613301385533\n",
      "Epoch 17: 0.4206184460358186\n",
      "Epoch 18: 0.4142835478891026\n",
      "Epoch 19: 0.4060851051048799\n",
      "Epoch 20: 0.39979059452360327\n",
      "Epoch 21: 0.39005737006664276\n",
      "Epoch 22: 0.38216422633691266\n",
      "Epoch 23: 0.3783147172494368\n",
      "Epoch 24: 0.373882994055748\n",
      "Epoch 25: 0.3673019382086667\n",
      "Epoch 26: 0.3601086193864996\n",
      "Epoch 27: 0.3575482829050584\n",
      "Epoch 28: 0.3510238230228424\n",
      "Epoch 29: 0.3491748950698159\n",
      "Epoch 30: 0.3474561450156299\n",
      "Epoch 31: 0.3383651917630976\n",
      "Epoch 32: 0.3388686247847297\n",
      "Epoch 33: 0.33415545319969003\n",
      "Epoch 34: 0.33033417707139795\n",
      "Epoch 35: 0.3291813981803981\n",
      "Epoch 36: 0.32225887883793225\n",
      "Epoch 37: 0.31976292350075464\n",
      "Epoch 38: 0.31552155722271313\n",
      "Epoch 39: 0.3148000003262\n",
      "Epoch 40: 0.3102964914657853\n",
      "Epoch 41: 0.31023011153394525\n",
      "Epoch 42: 0.30901462923396716\n",
      "Epoch 43: 0.3060687685554678\n",
      "Epoch 44: 0.3032743124799295\n",
      "Epoch 45: 0.3027713170105761\n",
      "Epoch 46: 0.29888147522102704\n",
      "Epoch 47: 0.2969830544157462\n",
      "Epoch 48: 0.29651919345964084\n",
      "Epoch 49: 0.2959304614500566\n",
      "Confusion Matrix:\n",
      "[[74, 15], [0, 83]]\n"
     ]
    }
   ],
   "source": [
    "# * Call `train_one_epoch` repeatedly to train the model once over the entire training dataset.\n",
    "# * Print out the epoch number and loss after each training call to verify that the loss is going down.\n",
    "# * Record the loss values in a list so that it can be plotted in the cell below.\n",
    "# * After training, call `evaluate_model` to get the confusion matrix.\n",
    "# * Save the model as `models/linear_model_{n}.pt`.\n",
    "\n",
    "loss = []\n",
    "for epoch in range(epochs):\n",
    "    # TODO\n",
    "    train_loss = train_one_epoch(train_loader, model, loss_fn, optimizer)\n",
    "    loss.append(train_loss)\n",
    "    print(f\"Epoch {epoch}: {train_loss}\")\n",
    "\n",
    "conf_matrix = evaluate_model(model, test_dataset)\n",
    "print(\"Confusion Matrix:\")\n",
    "print(conf_matrix)\n",
    "torch.save(model.state_dict(), f\"models/linear_model{n}.pt\")"
   ]
  },
  {
   "cell_type": "markdown",
   "metadata": {},
   "source": [
    "# Plot the loss curve\n",
    "Plot the loss curve with appropriate figure title and axis labels. Save the resulting figure in `figures/loss_curve_{n}.png`."
   ]
  },
  {
   "cell_type": "code",
   "execution_count": 8,
   "metadata": {},
   "outputs": [
    {
     "name": "stdout",
     "output_type": "stream",
     "text": [
      "Loss plot saved to figures/loss_plot_7.png\n"
     ]
    },
    {
     "data": {
      "image/png": "[encoded data removed]",
      "text/plain": [
       "<Figure size 640x480 with 1 Axes>"
      ]
     },
     "metadata": {},
     "output_type": "display_data"
    }
   ],
   "source": [
    "# TODO\n",
    "plt.figure()\n",
    "plt.plot(range(epochs), loss)\n",
    "plt.xlabel(\"Epoch\")\n",
    "plt.ylabel(\"Loss\")\n",
    "plt.title(\"Training Loss Over Time\")\n",
    "plot_path = f\"figures/loss_plot_{n}.png\"\n",
    "plt.savefig(plot_path)\n",
    "print(f\"Loss plot saved to {plot_path}\")\n",
    "plt.show()"
   ]
  },
  {
   "cell_type": "markdown",
   "metadata": {},
   "source": [
    "# Analyze accuracy using the confusion matrix\n",
    "- Print out the accuracy within each of the prediction classes.\n",
    "- Print out the size of each prediction class.\n",
    "- Print out the overall accuracy."
   ]
  },
  {
   "cell_type": "code",
   "execution_count": 12,
   "metadata": {},
   "outputs": [
    {
     "name": "stdout",
     "output_type": "stream",
     "text": [
      "True Negative Accuracy: 0.8314606741573034\n",
      "True Positive Accuracy: 1.0\n",
      "Negative Class: 89\n",
      "Positive Class: 83\n",
      "Accuracy: 0.9127906976744186\n"
     ]
    }
   ],
   "source": [
    "# TODO\n",
    "total = sum(sum(row) for row in conf_matrix)\n",
    "true_neg, false_pos, false_neg, true_pos = conf_matrix[0][0], conf_matrix[0][1], conf_matrix[1][0], conf_matrix[1][1]\n",
    "print(f\"True Neg Accuracy: {true_neg / (true_neg + false_pos)}\")\n",
    "print(f\"True Pos Accuracy: {true_pos / (true_pos + false_neg)}\")\n",
    "print(f\"Negative Class: {true_neg + false_pos}\")\n",
    "print(f\"Positive Class: {false_neg + true_pos}\")\n",
    "print(f\"Accuracy: {(true_neg + true_pos) / total}\")"
   ]
  },
  {
   "cell_type": "markdown",
   "metadata": {},
   "source": [
    "# Plot the model weights\n",
    "Can you interpret what the model is doing? Plot the model weights using `plt.imshow()` to get a heatmap. Choose a colormap from https://matplotlib.org/stable/users/explain/colors/colormaps.html that you prefer. I default to the `bwr` colormap where negative values are blue, positive value are red, and values close to zero are white."
   ]
  },
  {
   "cell_type": "code",
   "execution_count": 13,
   "metadata": {},
   "outputs": [
    {
     "data": {
      "image/png": "[encoded data removed]",
      "text/plain": [
       "<Figure size 640x480 with 2 Axes>"
      ]
     },
     "metadata": {},
     "output_type": "display_data"
    }
   ],
   "source": [
    "# TODO\n",
    "weights = model.fc.weight.detach().numpy()\n",
    "plt.figure()\n",
    "plt.imshow(weights, cmap=\"bwr\")\n",
    "plt.colorbar()\n",
    "plt.title(\"Weight Matrix\")\n",
    "plt.xlabel(\"Input\")\n",
    "plt.ylabel(\"Output\")\n",
    "plot_path = f\"figures/weight_matrix_{n}.png\"\n",
    "plt.savefig(plot_path)\n",
    "plt.show()"
   ]
  },
  {
   "cell_type": "markdown",
   "metadata": {},
   "source": [
    "# \"Translate\" the model into code.\n",
    "Implement `simple_evaluate` which condenses the model's \"logic\" into a single if-else statement. Run this evaluation function over the test set to produce a new confusion matrix and see how it performs compared to the model you train."
   ]
  },
  {
   "cell_type": "code",
   "execution_count": 16,
   "metadata": {},
   "outputs": [
    {
     "name": "stdout",
     "output_type": "stream",
     "text": [
      "Simple Model Confusion Matrix:\n",
      "[[50. 39.]\n",
      " [ 0. 83.]]\n",
      "True Neg Accuracy: 0.5617977528089888\n",
      "True Pos Accuracy: 1.0\n",
      "Negative Class: 89.0\n",
      "Positive Class: 83.0\n",
      "Accuracy: 0.7732558139534884\n"
     ]
    }
   ],
   "source": [
    "# Try to condense the linear model down into a single if-else statement. \n",
    "def simple_evaluate(input):\n",
    "    # TODO\n",
    "    if input[0] == 1:\n",
    "        return 1\n",
    "    return 0\n",
    "\n",
    "# Test the simple model on the test dataset. create confusion matrix\n",
    "#produce a new confusion matrix and see how it performs compared to the model you train.\n",
    "conf_matrix = np.zeros((2, 2))\n",
    "for i in range(len(test_dataset)):\n",
    "    input, target = test_dataset[i]\n",
    "    prediction = simple_evaluate(input)\n",
    "    conf_matrix[target][prediction] += 1\n",
    "print(\"Simple Model Confusion Matrix:\")\n",
    "print(conf_matrix)\n",
    "#compute the accuracy of the simple model\n",
    "total = sum(sum(row) for row in conf_matrix)\n",
    "true_neg, false_pos, false_neg, true_pos = conf_matrix[0][0], conf_matrix[0][1], conf_matrix[1][0], conf_matrix[1][1]\n",
    "print(f\"True Neg Accuracy: {true_neg / (true_neg + false_pos)}\")\n",
    "print(f\"True Pos Accuracy: {true_pos / (true_pos + false_neg)}\")\n",
    "print(f\"Negative Class: {true_neg + false_pos}\")\n",
    "print(f\"Positive Class: {false_neg + true_pos}\")\n",
    "print(f\"Accuracy: {(true_neg + true_pos) / total}\")\n"
   ]
  }
 ],
 "metadata": {
  "kernelspec": {
   "display_name": "Python 3",
   "language": "python",
   "name": "python3"
  },
  "language_info": {
   "codemirror_mode": {
    "name": "ipython",
    "version": 3
   },
   "file_extension": ".py",
   "mimetype": "text/x-python",
   "name": "python",
   "nbconvert_exporter": "python",
   "pygments_lexer": "ipython3",
   "version": "3.12.4"
  }
 },
 "nbformat": 4,
 "nbformat_minor": 2
}
