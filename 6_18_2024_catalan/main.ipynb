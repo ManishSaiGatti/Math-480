{
 "cells": [
  {
   "cell_type": "markdown",
   "metadata": {},
   "source": [
    "## Imports\n",
    "The files you need for this notebook are imported in the cell below."
   ]
  },
  {
   "cell_type": "code",
   "execution_count": null,
   "metadata": {},
   "outputs": [],
   "source": [
    "import catalan\n",
    "import os\n",
    "import time\n",
    "import matplotlib.pyplot as plt\n",
    "dirname = os.path.dirname(\"./\")"
   ]
  },
  {
   "cell_type": "markdown",
   "metadata": {},
   "source": [
    "## Generate Parenthesizations\n",
    "\n",
    "Generate all possible parenthesizations of length $n$ for $1 \\le n \\le 10$. Files should be outputted to `data/catalan_parenthesizations_n.txt` and a plot of the time used to generate each data file should go in `figures/catalan_parenthesizations.png`."
   ]
  },
  {
   "cell_type": "code",
   "execution_count": null,
   "metadata": {},
   "outputs": [],
   "source": [
    "for n in range(1, 11):\n",
    "  pass"
   ]
  },
  {
   "cell_type": "markdown",
   "metadata": {},
   "source": [
    "## Generate Product Orders\n",
    "\n",
    "Generate all possible product orders of $n$ elements for $2 \\le n \\le 11$. Files should be outputted to `data/catalan_product_orders_n.txt` and a plot of the time used to generate each data file should go in `figures/catalan_product_orders.png`."
   ]
  },
  {
   "cell_type": "code",
   "execution_count": null,
   "metadata": {},
   "outputs": [],
   "source": [
    "for n in range(2, 12):\n",
    "  pass"
   ]
  },
  {
   "cell_type": "markdown",
   "metadata": {},
   "source": [
    "## Generate 231 Avoiding Permutations\n",
    "\n",
    "Generate all possible 231 avoiding permutations on $n$ elements for $1 \\le n \\le 10$. Files should be outputted to `data/catalan_permutations_n.txt` and a plot of the time used to generate each data file should go in `figures/catalan_permutations.png`."
   ]
  },
  {
   "cell_type": "code",
   "execution_count": null,
   "metadata": {},
   "outputs": [],
   "source": [
    "for n in range(1, 11):\n",
    "  pass"
   ]
  },
  {
   "cell_type": "markdown",
   "metadata": {},
   "source": [
    "## Generate Triangulations\n",
    "\n",
    "Generate all possible triangulations on an $n$-sided polygon for $3 \\le n \\le 12$. Files should be outputted to `data/catalan_triangulations_n.txt` and a plot of the time used to generate each data file should go in `figures/catalan_triangulations.png`."
   ]
  },
  {
   "cell_type": "code",
   "execution_count": null,
   "metadata": {},
   "outputs": [],
   "source": [
    "for n in range(3, 13):\n",
    "  pass"
   ]
  }
 ],
 "metadata": {
  "kernelspec": {
   "display_name": "Python 3",
   "language": "python",
   "name": "python3"
  },
  "language_info": {
   "name": "python",
   "version": "3.12.4"
  }
 },
 "nbformat": 4,
 "nbformat_minor": 2
}
